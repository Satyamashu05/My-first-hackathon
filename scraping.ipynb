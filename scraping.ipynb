{
 "cells": [
  {
   "cell_type": "code",
   "execution_count": 1,
   "id": "c397a4f8-a3c5-4a57-8f1e-b6caca48a3b9",
   "metadata": {},
   "outputs": [],
   "source": [
    "from bs4 import BeautifulSoup\n",
    "import requests\n",
    "import pandas as pd"
   ]
  },
  {
   "cell_type": "code",
   "execution_count": 2,
   "id": "fbb1678a-201d-44d5-8fa2-a263c636b899",
   "metadata": {},
   "outputs": [],
   "source": [
    "url = 'https://www.iplt20.com/auction'\n",
    "page = requests.get(url)\n",
    "soup = BeautifulSoup(page.text,'html')"
   ]
  },
  {
   "cell_type": "code",
   "execution_count": 3,
   "id": "d98e13da-0b86-44ae-9f87-4cbf9012f807",
   "metadata": {},
   "outputs": [
    {
     "data": {
      "text/plain": [
       "['PLAYER', 'NATIONALITY', 'TYPE', 'PRICE PAID', 'TEAM']"
      ]
     },
     "execution_count": 3,
     "metadata": {},
     "output_type": "execute_result"
    }
   ],
   "source": [
    "sample = soup.find('table', class_='ih-td-tab auction-tbl', id=\"t1\")\n",
    "titles_o = sample.find_all('th')\n",
    "titles = [title.text for title in titles_o]\n",
    "titles.append('TEAM')\n",
    "titles"
   ]
  },
  {
   "cell_type": "code",
   "execution_count": 4,
   "id": "11a696bc-4355-4567-b772-b746bd22f9ed",
   "metadata": {},
   "outputs": [
    {
     "data": {
      "text/html": [
       "<div>\n",
       "<style scoped>\n",
       "    .dataframe tbody tr th:only-of-type {\n",
       "        vertical-align: middle;\n",
       "    }\n",
       "\n",
       "    .dataframe tbody tr th {\n",
       "        vertical-align: top;\n",
       "    }\n",
       "\n",
       "    .dataframe thead th {\n",
       "        text-align: right;\n",
       "    }\n",
       "</style>\n",
       "<table border=\"1\" class=\"dataframe\">\n",
       "  <thead>\n",
       "    <tr style=\"text-align: right;\">\n",
       "      <th></th>\n",
       "      <th>PLAYER</th>\n",
       "      <th>NATIONALITY</th>\n",
       "      <th>TYPE</th>\n",
       "      <th>PRICE PAID</th>\n",
       "      <th>TEAM</th>\n",
       "    </tr>\n",
       "  </thead>\n",
       "  <tbody>\n",
       "  </tbody>\n",
       "</table>\n",
       "</div>"
      ],
      "text/plain": [
       "Empty DataFrame\n",
       "Columns: [PLAYER, NATIONALITY, TYPE, PRICE PAID, TEAM]\n",
       "Index: []"
      ]
     },
     "execution_count": 4,
     "metadata": {},
     "output_type": "execute_result"
    }
   ],
   "source": [
    "df = pd.DataFrame(columns = titles)\n",
    "df"
   ]
  },
  {
   "cell_type": "code",
   "execution_count": 5,
   "id": "a5ad67a8-3749-4c8b-b895-bb069a835ab1",
   "metadata": {},
   "outputs": [],
   "source": [
    "tables = soup.find_all('table', class_='ih-td-tab auction-tbl', id=\"t1\")"
   ]
  },
  {
   "cell_type": "code",
   "execution_count": 6,
   "id": "7185d3e9-0168-4c54-9df4-f7919dbcb587",
   "metadata": {},
   "outputs": [],
   "source": [
    "count = 0\n",
    "for team in tables:\n",
    "    team_data = team.find_all('tr')\n",
    "    for row in team_data[1:]:\n",
    "        row_data = row.find_all('td')\n",
    "        individual_list = []\n",
    "        for data in row_data:\n",
    "            individual_data = data.text\n",
    "            individual_list.append(individual_data)\n",
    "            \n",
    "        if count==0:\n",
    "            individual_list.append('CSK')\n",
    "        elif count==1:\n",
    "            individual_list.append('DC')\n",
    "        elif count==2:\n",
    "            individual_list.append('GT')\n",
    "        elif count==3:\n",
    "            individual_list.append('KKR')\n",
    "        elif count==4:\n",
    "            individual_list.append('LSG')\n",
    "        elif count==5:\n",
    "            individual_list.append('MI')\n",
    "        elif count==6:\n",
    "            individual_list.append('PBKS')\n",
    "        elif count==7:\n",
    "            individual_list.append('RR')\n",
    "        elif count==8:\n",
    "            individual_list.append('RCB')\n",
    "        elif count==9:\n",
    "            individual_list.append('SRH')\n",
    "\n",
    "        length = len(df)\n",
    "        df.loc[length] = individual_list\n",
    "    count += 1"
   ]
  },
  {
   "cell_type": "code",
   "execution_count": 7,
   "id": "ea618657-8990-404d-a459-644dd0e3e8a7",
   "metadata": {},
   "outputs": [
    {
     "data": {
      "text/html": [
       "<div>\n",
       "<style scoped>\n",
       "    .dataframe tbody tr th:only-of-type {\n",
       "        vertical-align: middle;\n",
       "    }\n",
       "\n",
       "    .dataframe tbody tr th {\n",
       "        vertical-align: top;\n",
       "    }\n",
       "\n",
       "    .dataframe thead th {\n",
       "        text-align: right;\n",
       "    }\n",
       "</style>\n",
       "<table border=\"1\" class=\"dataframe\">\n",
       "  <thead>\n",
       "    <tr style=\"text-align: right;\">\n",
       "      <th></th>\n",
       "      <th>PLAYER</th>\n",
       "      <th>NATIONALITY</th>\n",
       "      <th>TYPE</th>\n",
       "      <th>PRICE PAID</th>\n",
       "      <th>TEAM</th>\n",
       "    </tr>\n",
       "  </thead>\n",
       "  <tbody>\n",
       "    <tr>\n",
       "      <th>0</th>\n",
       "      <td>Avanish Rao Aravelly</td>\n",
       "      <td>Indian</td>\n",
       "      <td>Wicket-Keeper</td>\n",
       "      <td>20,00,000</td>\n",
       "      <td>CSK</td>\n",
       "    </tr>\n",
       "    <tr>\n",
       "      <th>1</th>\n",
       "      <td>Mustafizur Rahman</td>\n",
       "      <td>Overseas</td>\n",
       "      <td>Bowler</td>\n",
       "      <td>2,00,00,000</td>\n",
       "      <td>CSK</td>\n",
       "    </tr>\n",
       "    <tr>\n",
       "      <th>2</th>\n",
       "      <td>Daryl Mitchell</td>\n",
       "      <td>Overseas</td>\n",
       "      <td>All-Rounder</td>\n",
       "      <td>14,00,00,000</td>\n",
       "      <td>CSK</td>\n",
       "    </tr>\n",
       "    <tr>\n",
       "      <th>3</th>\n",
       "      <td>Sameer Rizvi</td>\n",
       "      <td>Indian</td>\n",
       "      <td>Batter</td>\n",
       "      <td>8,40,00,000</td>\n",
       "      <td>CSK</td>\n",
       "    </tr>\n",
       "    <tr>\n",
       "      <th>4</th>\n",
       "      <td>Rachin Ravindra</td>\n",
       "      <td>Overseas</td>\n",
       "      <td>All-Rounder</td>\n",
       "      <td>1,80,00,000</td>\n",
       "      <td>CSK</td>\n",
       "    </tr>\n",
       "    <tr>\n",
       "      <th>...</th>\n",
       "      <td>...</td>\n",
       "      <td>...</td>\n",
       "      <td>...</td>\n",
       "      <td>...</td>\n",
       "      <td>...</td>\n",
       "    </tr>\n",
       "    <tr>\n",
       "      <th>67</th>\n",
       "      <td>Akash Singh</td>\n",
       "      <td>Indian</td>\n",
       "      <td>Bowler</td>\n",
       "      <td>20,00,000</td>\n",
       "      <td>SRH</td>\n",
       "    </tr>\n",
       "    <tr>\n",
       "      <th>68</th>\n",
       "      <td>Jaydev Unadkat</td>\n",
       "      <td>Indian</td>\n",
       "      <td>Bowler</td>\n",
       "      <td>1,60,00,000</td>\n",
       "      <td>SRH</td>\n",
       "    </tr>\n",
       "    <tr>\n",
       "      <th>69</th>\n",
       "      <td>Wanindu Hasaranga</td>\n",
       "      <td>Overseas</td>\n",
       "      <td>All-Rounder</td>\n",
       "      <td>1,50,00,000</td>\n",
       "      <td>SRH</td>\n",
       "    </tr>\n",
       "    <tr>\n",
       "      <th>70</th>\n",
       "      <td>Pat Cummins</td>\n",
       "      <td>Overseas</td>\n",
       "      <td>All-Rounder</td>\n",
       "      <td>20,50,00,000</td>\n",
       "      <td>SRH</td>\n",
       "    </tr>\n",
       "    <tr>\n",
       "      <th>71</th>\n",
       "      <td>Travis Head</td>\n",
       "      <td>Overseas</td>\n",
       "      <td>Batter</td>\n",
       "      <td>6,80,00,000</td>\n",
       "      <td>SRH</td>\n",
       "    </tr>\n",
       "  </tbody>\n",
       "</table>\n",
       "<p>72 rows × 5 columns</p>\n",
       "</div>"
      ],
      "text/plain": [
       "                   PLAYER NATIONALITY            TYPE     PRICE PAID TEAM\n",
       "0   Avanish Rao Aravelly      Indian   Wicket-Keeper      20,00,000   CSK\n",
       "1      Mustafizur Rahman    Overseas          Bowler    2,00,00,000   CSK\n",
       "2         Daryl Mitchell    Overseas     All-Rounder   14,00,00,000   CSK\n",
       "3           Sameer Rizvi      Indian          Batter    8,40,00,000   CSK\n",
       "4        Rachin Ravindra    Overseas     All-Rounder    1,80,00,000   CSK\n",
       "..                    ...         ...             ...            ...  ...\n",
       "67           Akash Singh      Indian          Bowler      20,00,000   SRH\n",
       "68        Jaydev Unadkat      Indian          Bowler    1,60,00,000   SRH\n",
       "69     Wanindu Hasaranga    Overseas     All-Rounder    1,50,00,000   SRH\n",
       "70           Pat Cummins    Overseas     All-Rounder   20,50,00,000   SRH\n",
       "71           Travis Head    Overseas          Batter    6,80,00,000   SRH\n",
       "\n",
       "[72 rows x 5 columns]"
      ]
     },
     "execution_count": 7,
     "metadata": {},
     "output_type": "execute_result"
    }
   ],
   "source": [
    "df"
   ]
  },
  {
   "cell_type": "code",
   "execution_count": 8,
   "id": "1784052d-1b4c-4318-8175-2c637b87c57e",
   "metadata": {},
   "outputs": [],
   "source": [
    "df.to_csv(r'C:\\Users\\abhij\\OneDrive\\Desktop\\HackNite 2024\\Statistics.csv', index = False)"
   ]
  }
 ],
 "metadata": {
  "kernelspec": {
   "display_name": "Python 3 (ipykernel)",
   "language": "python",
   "name": "python3"
  },
  "language_info": {
   "codemirror_mode": {
    "name": "ipython",
    "version": 3
   },
   "file_extension": ".py",
   "mimetype": "text/x-python",
   "name": "python",
   "nbconvert_exporter": "python",
   "pygments_lexer": "ipython3",
   "version": "3.11.7"
  }
 },
 "nbformat": 4,
 "nbformat_minor": 5
}
